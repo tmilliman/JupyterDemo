{
 "cells": [
  {
   "cell_type": "markdown",
   "metadata": {},
   "source": [
    "# PhenoCam \"roistats\" Files\n",
    "\n",
    "Here's a python notebook demonstrating how to read in and plot an \"roistats\" file (formerly referred to as the \"all image\" file) using python.  In this case I'm using the all image file from the alligatorriver site.  The all image files are in CSV format and can be read directly from the site using a URL.  First try reading directly from a file."
   ]
  },
  {
   "cell_type": "code",
   "execution_count": null,
   "metadata": {},
   "outputs": [],
   "source": [
    "import os, sys\n",
    "import numpy as np\n",
    "import matplotlib\n",
    "import matplotlib.pyplot as plt\n",
    "import pandas as pd\n",
    "import requests\n",
    "import io\n",
    "\n",
    "# set matplotlib  style\n",
    "matplotlib.style.use('ggplot')\n",
    "\n",
    "sitename = 'alligatorriver'\n",
    "roiname = 'DB_0001'\n",
    "infile = sitename + '_' + roiname + '_roistats.csv'"
   ]
  },
  {
   "cell_type": "markdown",
   "metadata": {},
   "source": [
    "Try to read directly from a URL. This has the advantage that you always get the latest version of the file which is updated nightly."
   ]
  },
  {
   "cell_type": "code",
   "execution_count": null,
   "metadata": {},
   "outputs": [],
   "source": [
    "url = \"https://phenocam.sr.unh.edu/data/archive/{}/ROI/{}\"\n",
    "url = url.format(sitename, infile)\n",
    "print(url)"
   ]
  },
  {
   "cell_type": "code",
   "execution_count": null,
   "metadata": {},
   "outputs": [],
   "source": [
    "response = requests.get(url)\n",
    "fd = io.StringIO(response.text)\n",
    "df = pd.read_csv(fd, comment='#', parse_dates=[[0,1]])\n",
    "fd.close\n",
    "df[0:3]"
   ]
  },
  {
   "cell_type": "code",
   "execution_count": null,
   "metadata": {},
   "outputs": [],
   "source": [
    "x = df.date_local_std_time\n",
    "y = df.gcc\n",
    "plt.figure(figsize=[16,4])\n",
    "plt.plot_date(x, y, 'k.', markersize=.5)"
   ]
  },
  {
   "cell_type": "markdown",
   "metadata": {},
   "source": [
    "I finally figured out how to plot this using pandas.  It's pretty simple once you know what you need to do."
   ]
  },
  {
   "cell_type": "code",
   "execution_count": null,
   "metadata": {},
   "outputs": [],
   "source": [
    "df.index = df.date_local_std_time\n",
    "df.gcc.plot(style='k.', markersize=.5, figsize=[16,4])"
   ]
  },
  {
   "cell_type": "markdown",
   "metadata": {},
   "source": [
    "Once the data frame is indexed with the datetime other values can also be plotted as a function of time."
   ]
  },
  {
   "cell_type": "code",
   "execution_count": null,
   "metadata": {},
   "outputs": [],
   "source": [
    "df.rcc.plot(style='r.', markersize=.5, figsize=[16,4])"
   ]
  },
  {
   "cell_type": "code",
   "execution_count": null,
   "metadata": {},
   "outputs": [],
   "source": []
  },
  {
   "cell_type": "code",
   "execution_count": null,
   "metadata": {},
   "outputs": [],
   "source": []
  }
 ],
 "metadata": {
  "kernelspec": {
   "display_name": "Python 3",
   "language": "python",
   "name": "python3"
  },
  "language_info": {
   "codemirror_mode": {
    "name": "ipython",
    "version": 3
   },
   "file_extension": ".py",
   "mimetype": "text/x-python",
   "name": "python",
   "nbconvert_exporter": "python",
   "pygments_lexer": "ipython3",
   "version": "3.7.6"
  }
 },
 "nbformat": 4,
 "nbformat_minor": 4
}
