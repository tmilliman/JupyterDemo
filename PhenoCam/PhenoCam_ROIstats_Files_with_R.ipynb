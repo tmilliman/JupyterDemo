{
 "cells": [
  {
   "cell_type": "markdown",
   "metadata": {},
   "source": [
    "# PhenoCam \"roistats\" Files\n",
    "\n",
    "Here's a jupyter notebook demonstrating how to read in and plot an \"roistats\" file (formerly known as an \"all image\" file) using R.  In this case I'm using the all image file from the alligatorriver site.  The all image files are in CSV format and can be read directly from the [PhenoCam Network web site](https://phenocam.sr.unh.edu/webcam/) using a URL.  To use this notebook you'll need to install the packages, `ggplot2` and `lubridate` from CRAN."
   ]
  },
  {
   "cell_type": "code",
   "execution_count": null,
   "metadata": {},
   "outputs": [],
   "source": [
    "library(ggplot2)\n",
    "library(lubridate)\n",
    "\n",
    "baseurl = 'https://phenocam.sr.unh.edu/data/archive'\n",
    "sitename = 'alligatorriver'\n",
    "roiname1 = 'DB_1000'\n",
    "\n",
    "csvfile = sprintf(\"%s_%s_roistats.csv\",sitename,roiname1)\n",
    "csvurl = sprintf(\"%s/%s/ROI/%s\",baseurl,sitename,csvfile)\n",
    "df = read.csv(url(csvurl),comment.char=\"#\",header=TRUE)\n",
    "df$date = as.Date(df$date)\n",
    "df$year = year(df$date)\n",
    "ystart = min(df$year)\n",
    "yend = max(df$year)\n",
    "head(df)"
   ]
  },
  {
   "cell_type": "code",
   "execution_count": null,
   "metadata": {},
   "outputs": [],
   "source": [
    "## combine date and local_std_time\n",
    "df$datetime = with(df, as.POSIXct(paste(date,local_std_time), format=\"%Y-%m-%d %H:%M:%S\"))"
   ]
  },
  {
   "cell_type": "code",
   "execution_count": null,
   "metadata": {},
   "outputs": [],
   "source": [
    "options(repr.plot.width = 12)\n",
    "options(repr.plot.height = 4.5)\n",
    "p = ggplot(df,aes(x=datetime,y=gcc)) + geom_point(size=0.01, shape=16, alpha=.7)\n",
    "p"
   ]
  }
 ],
 "metadata": {
  "kernelspec": {
   "display_name": "R",
   "language": "R",
   "name": "ir"
  },
  "language_info": {
   "codemirror_mode": "r",
   "file_extension": ".r",
   "mimetype": "text/x-r-source",
   "name": "R",
   "pygments_lexer": "r",
   "version": "3.6.2"
  }
 },
 "nbformat": 4,
 "nbformat_minor": 4
}
